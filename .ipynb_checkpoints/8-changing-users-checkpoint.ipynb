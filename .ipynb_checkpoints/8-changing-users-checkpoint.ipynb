{
 "cells": [
  {
   "cell_type": "markdown",
   "metadata": {},
   "source": [
    "# Changing Identities"
   ]
  },
  {
   "cell_type": "markdown",
   "metadata": {},
   "source": [
    "### Introduction"
   ]
  },
  {
   "cell_type": "markdown",
   "metadata": {},
   "source": [
    "In previous lessons we saw how, as an individual user, we permissions to access files and directories in different ways.  In this lesson, we'll learn about changing our users, and why changing users is sometimes necessary. "
   ]
  },
  {
   "cell_type": "markdown",
   "metadata": {},
   "source": [
    "### Navigating the System"
   ]
  },
  {
   "cell_type": "markdown",
   "metadata": {},
   "source": [
    "Now when we login to our computer as a certian user, we, by default, have access to files and directories in the user's home folder as those are files that we created, and thus have permission to read or access those files.   \n",
    "\n",
    "In linux, the home folder is indicated by the `tilde`."
   ]
  },
  {
   "cell_type": "markdown",
   "metadata": {},
   "source": [
    "> The home folder is indicated by the `~` in linux."
   ]
  },
  {
   "cell_type": "markdown",
   "metadata": {},
   "source": [
    "<img src=\"./home.png\" width=\"40%\">"
   ]
  },
  {
   "cell_type": "markdown",
   "metadata": {},
   "source": [
    "So when we're working within our home folder, we generally have the access we need.  But there are other files located on our computer, located outside of our home directory.  For example, if we navigate outside of that folder we can see the folder of our `Guest` user."
   ]
  },
  {
   "cell_type": "markdown",
   "metadata": {},
   "source": [
    "<img src=\"./different_users.png\" width=\"60%\">"
   ]
  },
  {
   "cell_type": "markdown",
   "metadata": {},
   "source": [
    "And then if we navigate one level up from our Users folder, we'll find the `root` folder, which is as far up as we can go."
   ]
  },
  {
   "cell_type": "markdown",
   "metadata": {},
   "source": [
    "<img src=\"./root_folder.png\" width=\"80%\">"
   ]
  },
  {
   "cell_type": "markdown",
   "metadata": {},
   "source": [
    "Now if we look at the permissions of the files located is say, the `etc` folder, we can see that, for many of the files, write access is restricted to the root user."
   ]
  },
  {
   "cell_type": "markdown",
   "metadata": {},
   "source": [
    "<img src=\"./permissions-etc.png\" width=\"50%\">"
   ]
  },
  {
   "cell_type": "markdown",
   "metadata": {},
   "source": [
    "> Notice that the owner is root, and that read and write access is restricted to the owner."
   ]
  },
  {
   "cell_type": "markdown",
   "metadata": {},
   "source": [
    "The point is that if we want to alter, or install packages that alters certain files or folders located outside of our `home` folder, we may have to change users to be root.  \n",
    "\n",
    "And, it used to be the case, that we could login to Linux and switch users to be whatever we want.\n",
    "\n",
    "`su -l`\n",
    "\n",
    "> `su` stands for switch user and `su -l` is the command to switch to the root user."
   ]
  },
  {
   "cell_type": "markdown",
   "metadata": {},
   "source": [
    "### But don't do it"
   ]
  },
  {
   "cell_type": "markdown",
   "metadata": {},
   "source": [
    "Logging in as the root user and giving ourselves access to every file on our computer is a bad idea.\n",
    "\n",
    "For example, if we logged in as root without logging back out, if we then used our web browser that had a security bug and a malicious web page, it would be able to write to and alter all of the files on our system.  This is bad.\n",
    "\n",
    "If, by contrast, we were just logged in as our user account, only our home folder would be exposed (as we would still be logged in as a user).  While still bad, it at least limits some damage.\n",
    "\n",
    "To prevent us from logging in as root, recent versions of Linux do not even allow for it.  Linux puts switching to the root user under lock and key, and we are not given that key."
   ]
  },
  {
   "cell_type": "markdown",
   "metadata": {},
   "source": [
    "<img src=\"./su-sorry.png\" width=\"40%\">"
   ]
  },
  {
   "cell_type": "markdown",
   "metadata": {},
   "source": [
    "But while linux does not give us the ability to login as the root user, it *does* give us the ability to execute one command at a time as the root user.  This is the `sudo` command, which stands for `super user do`.  \n",
    "\n",
    "> Another name for the root user is the super user."
   ]
  },
  {
   "cell_type": "markdown",
   "metadata": {},
   "source": [
    "One nice thing about sudo, is that it **does not** require access to the superuser's password.  Instead, if prompted for a password we need only use our current user password.  When do we need to use `sudo`?  Oftentimes, when we are installing packages.  \n",
    "\n",
    "The following diagram, from XKCD, may illustrate why."
   ]
  },
  {
   "cell_type": "markdown",
   "metadata": {},
   "source": [
    "<img src=\"./installing_pip.png\" width=\"50%\">"
   ]
  },
  {
   "cell_type": "markdown",
   "metadata": {},
   "source": [
    "As we can see, Anaconoda and pip sometimes try to make changes to folders owned by root.  To get them to install, we may need to change our user to sudo.\n",
    "\n",
    "> Even here, we should try not to use sudo, as this will again give the pip package access to any file in our system when installing.  Instead it is better to install with the user flag as in `pip3 install --user numpy`."
   ]
  },
  {
   "cell_type": "markdown",
   "metadata": {},
   "source": [
    "### Summary"
   ]
  },
  {
   "cell_type": "markdown",
   "metadata": {},
   "source": [
    "In this lesson, we learned about switching users in the shell.  We saw that while we have access to many of the files in the home directory, we may not have access to many files located outside of the home directory.  For those files, the owner of the file is often `root`, and write access to the file is often restricted to the owner.\n",
    "\n",
    "While, for security reasons, linux does not allow us to login as the root owner, it does allow us to execute shell commands as the root owner by using sudo followed by the shell command.  We sometimes to use sudo while installing programs on our computer as installation may require modification of files located outside of our home directory and only writable by root."
   ]
  },
  {
   "cell_type": "markdown",
   "metadata": {},
   "source": [
    "### Resources\n",
    "\n",
    "[Limit use of Root](howtogeek.com/124950/htg-explains-why-you-shouldnt-log-into-your-linux-system-as-root/)\n",
    "\n",
    "[Don't use sudo with pip](https://dev.to/elabftw/stop-using-sudo-pip-install-52mn)\n",
    "\n",
    "[Adding a User](https://linuxize.com/post/how-to-create-users-in-linux-using-the-useradd-command/)\n",
    "\n",
    "[Switching Users](https://devconnected.com/how-to-change-user-on-linux/)"
   ]
  }
 ],
 "metadata": {
  "kernelspec": {
   "display_name": "Python 3",
   "language": "python",
   "name": "python3"
  },
  "language_info": {
   "codemirror_mode": {
    "name": "ipython",
    "version": 3
   },
   "file_extension": ".py",
   "mimetype": "text/x-python",
   "name": "python",
   "nbconvert_exporter": "python",
   "pygments_lexer": "ipython3",
   "version": "3.9.1"
  }
 },
 "nbformat": 4,
 "nbformat_minor": 4
}
